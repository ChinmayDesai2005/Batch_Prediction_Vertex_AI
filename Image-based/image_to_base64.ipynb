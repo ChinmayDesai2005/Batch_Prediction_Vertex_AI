{
 "cells": [
  {
   "cell_type": "code",
   "execution_count": 6,
   "metadata": {},
   "outputs": [],
   "source": [
    "import base64"
   ]
  },
  {
   "cell_type": "code",
   "execution_count": 10,
   "metadata": {},
   "outputs": [
    {
     "data": {
      "text/plain": [
       "b'/9j/4AAQSkZJRgABAQEASABIAAD/2wBDAAoHBwgHBgoICAgLCgoLDhgQDg0NDh0VFhEYIx8lJCIfIiEmKzcvJik0KSEiMEExNDk7Pj4+JS5ESUM8SDc9Pjv/2wBDAQoLCw4NDhwQEBw7KCIoOzs7Ozs7Ozs7Ozs7Ozs7Ozs7Ozs7Ozs7Ozs7Ozs7Ozs7Ozs7Ozs7Ozs7Ozs7Ozs7Ozv/wAARCAAgACADASIAAhEBAxEB/8QAGAAAAwEBAAAAAAAAAAAAAAAAAgUHBAb/xAAsEAACAQMCBQIFBQAAAAAAAAABAgMABBEFBhITIUFRMXEHIiNhoTKBkbLS/8QAFQEBAQAAAAAAAAAAAAAAAAAAAgH/xAAcEQACAwEBAQEAAAAAAAAAAAABAgADEQQhQVH/2gAMAwEAAhEDEQA/AKaJPvRCYVM77eWpXtyFtWFrCCcFOpbxkmslzujVZomhlvG5bKQcADP7ioehJRQ/7O813eWn6JHjIuJyCRFG3p7ntSbbPxBbUdRe31BY4lmb6JU/pOQAp8+9crt3RTuDUEUdLVGDTnPYdh71RL3bmkX8cKTWMY5BBjMY4CMdsjt9qCFrDo+RuErGH3ZOBosE12UDzKsfCWOe5ySc+fT+aO50KJgzLcSgKCeDoQacC2SKV2kk+UopBXHU9c/gCilS3WIrzQrNkKxboTQV+cbvsDvaczyYNtSPpcryW6heOCMsD6ZbOf60+fWLuRMcZDeVpMJbS0XmcQdOBEKIDkFc/wCvxW1zp81uic6RY1zngcrnI79aqdSVrirA6tY2kz//2Q=='"
      ]
     },
     "execution_count": 10,
     "metadata": {},
     "output_type": "execute_result"
    }
   ],
   "source": [
    "with open(\"horse.jpg\", \"rb\") as image_file:\n",
    "    encoded_string = base64.b64encode(image_file.read())\n",
    "encoded_string"
   ]
  },
  {
   "cell_type": "code",
   "execution_count": 4,
   "metadata": {},
   "outputs": [],
   "source": [
    "import cv2 as cv\n",
    "import numpy as np\n",
    "import json\n",
    "\n",
    "img = cv.imread('car.jpg')\n",
    "img = cv.cvtColor(img, cv.COLOR_BGR2RGB)\n",
    "np.array([img]) / 255\n",
    "with open('input.jsonl', 'w') as f:\n",
    "    json.dump({'content': str(np.array([img]) / 255)}, f)\n",
    "    f.write('\\n')"
   ]
  }
 ],
 "metadata": {
  "kernelspec": {
   "display_name": "Python 3",
   "language": "python",
   "name": "python3"
  },
  "language_info": {
   "codemirror_mode": {
    "name": "ipython",
    "version": 3
   },
   "file_extension": ".py",
   "mimetype": "text/x-python",
   "name": "python",
   "nbconvert_exporter": "python",
   "pygments_lexer": "ipython3",
   "version": "3.12.3"
  }
 },
 "nbformat": 4,
 "nbformat_minor": 2
}
